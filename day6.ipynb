{
 "cells": [
  {
   "attachments": {},
   "cell_type": "markdown",
   "metadata": {},
   "source": [
    "### 네이버 쇼핑 크롤링"
   ]
  },
  {
   "cell_type": "code",
   "execution_count": 8,
   "metadata": {},
   "outputs": [
    {
     "ename": "LookupError",
     "evalue": "unknown encoding: uft-8",
     "output_type": "error",
     "traceback": [
      "\u001b[1;31m---------------------------------------------------------------------------\u001b[0m",
      "\u001b[1;31mLookupError\u001b[0m                               Traceback (most recent call last)",
      "Cell \u001b[1;32mIn[8], line 9\u001b[0m\n\u001b[0;32m      7\u001b[0m \u001b[39mimport\u001b[39;00m \u001b[39mtime\u001b[39;00m\n\u001b[0;32m      8\u001b[0m \u001b[39mimport\u001b[39;00m \u001b[39mcsv\u001b[39;00m\n\u001b[1;32m----> 9\u001b[0m f\u001b[39m=\u001b[39m\u001b[39mopen\u001b[39;49m(\u001b[39m\"\u001b[39;49m\u001b[39mnaver_shop.csv\u001b[39;49m\u001b[39m\"\u001b[39;49m,\u001b[39m\"\u001b[39;49m\u001b[39mw\u001b[39;49m\u001b[39m\"\u001b[39;49m,encoding\u001b[39m=\u001b[39;49m\u001b[39m\"\u001b[39;49m\u001b[39muft-8\u001b[39;49m\u001b[39m\"\u001b[39;49m,newline\u001b[39m=\u001b[39;49m\u001b[39m\"\u001b[39;49m\u001b[39m\"\u001b[39;49m)\n",
      "File \u001b[1;32m~\\AppData\\Roaming\\Python\\Python310\\site-packages\\IPython\\core\\interactiveshell.py:282\u001b[0m, in \u001b[0;36m_modified_open\u001b[1;34m(file, *args, **kwargs)\u001b[0m\n\u001b[0;32m    275\u001b[0m \u001b[39mif\u001b[39;00m file \u001b[39min\u001b[39;00m {\u001b[39m0\u001b[39m, \u001b[39m1\u001b[39m, \u001b[39m2\u001b[39m}:\n\u001b[0;32m    276\u001b[0m     \u001b[39mraise\u001b[39;00m \u001b[39mValueError\u001b[39;00m(\n\u001b[0;32m    277\u001b[0m         \u001b[39mf\u001b[39m\u001b[39m\"\u001b[39m\u001b[39mIPython won\u001b[39m\u001b[39m'\u001b[39m\u001b[39mt let you open fd=\u001b[39m\u001b[39m{\u001b[39;00mfile\u001b[39m}\u001b[39;00m\u001b[39m by default \u001b[39m\u001b[39m\"\u001b[39m\n\u001b[0;32m    278\u001b[0m         \u001b[39m\"\u001b[39m\u001b[39mas it is likely to crash IPython. If you know what you are doing, \u001b[39m\u001b[39m\"\u001b[39m\n\u001b[0;32m    279\u001b[0m         \u001b[39m\"\u001b[39m\u001b[39myou can use builtins\u001b[39m\u001b[39m'\u001b[39m\u001b[39m open.\u001b[39m\u001b[39m\"\u001b[39m\n\u001b[0;32m    280\u001b[0m     )\n\u001b[1;32m--> 282\u001b[0m \u001b[39mreturn\u001b[39;00m io_open(file, \u001b[39m*\u001b[39margs, \u001b[39m*\u001b[39m\u001b[39m*\u001b[39mkwargs)\n",
      "\u001b[1;31mLookupError\u001b[0m: unknown encoding: uft-8"
     ]
    }
   ],
   "source": [
    "from selenium import webdriver\n",
    "from selenium.webdriver.chrome.service import Service\n",
    "from selenium.webdriver.chrome.options import Options\n",
    "from selenium.webdriver.common.keys import Keys\n",
    "from selenium.webdriver.common.by import By\n",
    "from webdriver_manager.chrome import ChromeDriverManager\n",
    "import time\n",
    "import csv"
   ]
  },
  {
   "cell_type": "code",
   "execution_count": 18,
   "metadata": {},
   "outputs": [
    {
     "ename": "NoSuchWindowException",
     "evalue": "Message: no such window: target window already closed\nfrom unknown error: web view not found\n  (Session info: chrome=112.0.5615.87)\nStacktrace:\nBacktrace:\n\tGetHandleVerifier [0x0060DCE3+50899]\n\t(No symbol) [0x0059E111]\n\t(No symbol) [0x004A5588]\n\t(No symbol) [0x0048D333]\n\t(No symbol) [0x004EF4DB]\n\t(No symbol) [0x004FDB33]\n\t(No symbol) [0x004EB6F6]\n\t(No symbol) [0x004C7708]\n\t(No symbol) [0x004C886D]\n\tGetHandleVerifier [0x00873EAE+2566302]\n\tGetHandleVerifier [0x008A92B1+2784417]\n\tGetHandleVerifier [0x008A327C+2759788]\n\tGetHandleVerifier [0x006A5740+672048]\n\t(No symbol) [0x005A8872]\n\t(No symbol) [0x005A41C8]\n\t(No symbol) [0x005A42AB]\n\t(No symbol) [0x005971B7]\n\tBaseThreadInitThunk [0x770B6359+25]\n\tRtlGetAppContainerNamedObjectPath [0x77898964+228]\n\tRtlGetAppContainerNamedObjectPath [0x77898934+180]\n",
     "output_type": "error",
     "traceback": [
      "\u001b[1;31m---------------------------------------------------------------------------\u001b[0m",
      "\u001b[1;31mNoSuchWindowException\u001b[0m                     Traceback (most recent call last)",
      "Cell \u001b[1;32mIn[18], line 6\u001b[0m\n\u001b[0;32m      4\u001b[0m driver \u001b[39m=\u001b[39m webdriver\u001b[39m.\u001b[39mChrome(service\u001b[39m=\u001b[39mservice, options\u001b[39m=\u001b[39moptions) \n\u001b[0;32m      5\u001b[0m driver\u001b[39m.\u001b[39mget(\u001b[39m\"\u001b[39m\u001b[39mhttps://www.naver.com/\u001b[39m\u001b[39m\"\u001b[39m)\n\u001b[1;32m----> 6\u001b[0m \u001b[39mprint\u001b[39m(driver\u001b[39m.\u001b[39;49mtitle)\n\u001b[0;32m     13\u001b[0m \u001b[39m##쇼핑 들어가기(클릭)\u001b[39;00m\n\u001b[0;32m     14\u001b[0m driver\u001b[39m.\u001b[39mfind_element(By\u001b[39m.\u001b[39mCSS_SELECTOR,\u001b[39m\"\u001b[39m\u001b[39mul.a.nav.shop\u001b[39m\u001b[39m\"\u001b[39m)\u001b[39m.\u001b[39mclick()\n",
      "File \u001b[1;32m~\\AppData\\Roaming\\Python\\Python310\\site-packages\\selenium\\webdriver\\remote\\webdriver.py:460\u001b[0m, in \u001b[0;36mWebDriver.title\u001b[1;34m(self)\u001b[0m\n\u001b[0;32m    451\u001b[0m \u001b[39m@property\u001b[39m\n\u001b[0;32m    452\u001b[0m \u001b[39mdef\u001b[39;00m \u001b[39mtitle\u001b[39m(\u001b[39mself\u001b[39m) \u001b[39m-\u001b[39m\u001b[39m>\u001b[39m \u001b[39mstr\u001b[39m:\n\u001b[0;32m    453\u001b[0m \u001b[39m    \u001b[39m\u001b[39m\"\"\"Returns the title of the current page.\u001b[39;00m\n\u001b[0;32m    454\u001b[0m \n\u001b[0;32m    455\u001b[0m \u001b[39m    :Usage:\u001b[39;00m\n\u001b[1;32m   (...)\u001b[0m\n\u001b[0;32m    458\u001b[0m \u001b[39m            title = driver.title\u001b[39;00m\n\u001b[0;32m    459\u001b[0m \u001b[39m    \"\"\"\u001b[39;00m\n\u001b[1;32m--> 460\u001b[0m     \u001b[39mreturn\u001b[39;00m \u001b[39mself\u001b[39;49m\u001b[39m.\u001b[39;49mexecute(Command\u001b[39m.\u001b[39;49mGET_TITLE)\u001b[39m.\u001b[39mget(\u001b[39m\"\u001b[39m\u001b[39mvalue\u001b[39m\u001b[39m\"\u001b[39m, \u001b[39m\"\u001b[39m\u001b[39m\"\u001b[39m)\n",
      "File \u001b[1;32m~\\AppData\\Roaming\\Python\\Python310\\site-packages\\selenium\\webdriver\\remote\\webdriver.py:440\u001b[0m, in \u001b[0;36mWebDriver.execute\u001b[1;34m(self, driver_command, params)\u001b[0m\n\u001b[0;32m    438\u001b[0m response \u001b[39m=\u001b[39m \u001b[39mself\u001b[39m\u001b[39m.\u001b[39mcommand_executor\u001b[39m.\u001b[39mexecute(driver_command, params)\n\u001b[0;32m    439\u001b[0m \u001b[39mif\u001b[39;00m response:\n\u001b[1;32m--> 440\u001b[0m     \u001b[39mself\u001b[39;49m\u001b[39m.\u001b[39;49merror_handler\u001b[39m.\u001b[39;49mcheck_response(response)\n\u001b[0;32m    441\u001b[0m     response[\u001b[39m\"\u001b[39m\u001b[39mvalue\u001b[39m\u001b[39m\"\u001b[39m] \u001b[39m=\u001b[39m \u001b[39mself\u001b[39m\u001b[39m.\u001b[39m_unwrap_value(response\u001b[39m.\u001b[39mget(\u001b[39m\"\u001b[39m\u001b[39mvalue\u001b[39m\u001b[39m\"\u001b[39m, \u001b[39mNone\u001b[39;00m))\n\u001b[0;32m    442\u001b[0m     \u001b[39mreturn\u001b[39;00m response\n",
      "File \u001b[1;32m~\\AppData\\Roaming\\Python\\Python310\\site-packages\\selenium\\webdriver\\remote\\errorhandler.py:245\u001b[0m, in \u001b[0;36mErrorHandler.check_response\u001b[1;34m(self, response)\u001b[0m\n\u001b[0;32m    243\u001b[0m         alert_text \u001b[39m=\u001b[39m value[\u001b[39m\"\u001b[39m\u001b[39malert\u001b[39m\u001b[39m\"\u001b[39m]\u001b[39m.\u001b[39mget(\u001b[39m\"\u001b[39m\u001b[39mtext\u001b[39m\u001b[39m\"\u001b[39m)\n\u001b[0;32m    244\u001b[0m     \u001b[39mraise\u001b[39;00m exception_class(message, screen, stacktrace, alert_text)  \u001b[39m# type: ignore[call-arg]  # mypy is not smart enough here\u001b[39;00m\n\u001b[1;32m--> 245\u001b[0m \u001b[39mraise\u001b[39;00m exception_class(message, screen, stacktrace)\n",
      "\u001b[1;31mNoSuchWindowException\u001b[0m: Message: no such window: target window already closed\nfrom unknown error: web view not found\n  (Session info: chrome=112.0.5615.87)\nStacktrace:\nBacktrace:\n\tGetHandleVerifier [0x0060DCE3+50899]\n\t(No symbol) [0x0059E111]\n\t(No symbol) [0x004A5588]\n\t(No symbol) [0x0048D333]\n\t(No symbol) [0x004EF4DB]\n\t(No symbol) [0x004FDB33]\n\t(No symbol) [0x004EB6F6]\n\t(No symbol) [0x004C7708]\n\t(No symbol) [0x004C886D]\n\tGetHandleVerifier [0x00873EAE+2566302]\n\tGetHandleVerifier [0x008A92B1+2784417]\n\tGetHandleVerifier [0x008A327C+2759788]\n\tGetHandleVerifier [0x006A5740+672048]\n\t(No symbol) [0x005A8872]\n\t(No symbol) [0x005A41C8]\n\t(No symbol) [0x005A42AB]\n\t(No symbol) [0x005971B7]\n\tBaseThreadInitThunk [0x770B6359+25]\n\tRtlGetAppContainerNamedObjectPath [0x77898964+228]\n\tRtlGetAppContainerNamedObjectPath [0x77898934+180]\n"
     ]
    }
   ],
   "source": [
    "\n",
    "options = Options()\n",
    "options.add_experimental_option(\"detach\",True) \n",
    "service = Service(ChromeDriverManager().install())\n",
    "driver = webdriver.Chrome(service=service, options=options) \n",
    "driver.get(\"https://www.naver.com/\")\n",
    "print(driver.title)\n",
    "\n",
    "\n",
    "\n",
    "\n",
    "\n",
    "\n",
    "##쇼핑 들어가기(클릭)\n",
    "driver.find_element(By.CSS_SELECTOR,\"a.nav.shop\").click()\n",
    "time.sleep(2)\n",
    "\n",
    "####검색창 클릭\n",
    "\n",
    "search = driver.find_element(By.CSS_SELECTOR,\"input._searchInput_search_text_3CUDs\")\n",
    "search.click()\n",
    "search.send_keys(\"아이폰14\")\n",
    "search.send_keys(Keys.ENTER)\n",
    "\n",
    "\n",
    "\n",
    "### 스크롤 전 높이\n",
    "before_height = driver.execute_script(\"return window.scrollY\")\n",
    "\n",
    "#무한 스크롤 처리\n",
    "while True:\n",
    "    try:\n",
    "        #스크롤 내리기\n",
    "        more = driver.find_element(By.CSS_SELECTOR,\"body\").send_keys(Keys.END)\n",
    "        time.sleep(1)\n",
    "        after_height = driver.execute_script(\"return window.scrollY\")\n",
    "        \n",
    "        if before_height == after_height:\n",
    "            break\n",
    "        before_height = after_height\n",
    "    except:\n",
    "        break\n",
    "\n",
    "\n",
    "#상품 정보\n",
    "items = driver.find_elements(By.CSS_SELECTOR,'div.basicList_item__0T9JD')\n",
    "\n",
    "f=open(\"naver._shop.csv\",\"w\",encoding=\"utf-8\",newline=\"\")\n",
    "for item in items:\n",
    "    #상품명\n",
    "    name = item.find_element(By.CSS_SELECTOR,'div.basicList_title__VfX3c').text\n",
    "    print(name)\n",
    "\n",
    "    #가격\n",
    "    price = item.find_element(By.CSS_SELECTOR,'span.price_num__S2p_v').text\n",
    "    #print(price)\n",
    "\n",
    "    # 링크\n",
    "    link = item.find_element(By.CSS_SELECTOR,'div.basicList_title__VfX3c > a').get_attribute('href')\n",
    "    print(name,\"/\",price,\"/\",link)\n",
    "\n",
    "f.close()"
   ]
  },
  {
   "cell_type": "code",
   "execution_count": null,
   "metadata": {},
   "outputs": [],
   "source": []
  },
  {
   "cell_type": "code",
   "execution_count": null,
   "metadata": {},
   "outputs": [],
   "source": []
  }
 ],
 "metadata": {
  "kernelspec": {
   "display_name": "Python 3",
   "language": "python",
   "name": "python3"
  },
  "language_info": {
   "codemirror_mode": {
    "name": "ipython",
    "version": 3
   },
   "file_extension": ".py",
   "mimetype": "text/x-python",
   "name": "python",
   "nbconvert_exporter": "python",
   "pygments_lexer": "ipython3",
   "version": "3.10.10"
  },
  "orig_nbformat": 4
 },
 "nbformat": 4,
 "nbformat_minor": 2
}
