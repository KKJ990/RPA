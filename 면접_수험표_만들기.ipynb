{
 "cells": [
  {
   "cell_type": "code",
   "execution_count": 36,
   "metadata": {},
   "outputs": [],
   "source": [
    "import pandas as pd\n",
    "from pptx import Presentation\n",
    "from pptx.util import Pt\n",
    "import copy"
   ]
  },
  {
   "cell_type": "code",
   "execution_count": 37,
   "metadata": {},
   "outputs": [
    {
     "name": "stdout",
     "output_type": "stream",
     "text": [
      "10\n"
     ]
    }
   ],
   "source": [
    "df = pd.read_excel(\"./excel/수험번호.xlsx\")\n",
    "prs = Presentation('./ppt/수험표_샘플.pptx')\n",
    "\n",
    "names = iter(df['이름'])\n",
    "nos = iter(df['수험번호'])\n",
    "cnt = len(df)\n",
    "print(cnt)\n"
   ]
  },
  {
   "cell_type": "code",
   "execution_count": 38,
   "metadata": {},
   "outputs": [],
   "source": [
    "def copy_slide(prs, org_slide):\n",
    "    copied_slide = prs.slides.add_slide(org_slide.slide_layout)\n",
    "    for shape in org_slide.shapes:\n",
    "        org_el = shape.element\n",
    "        new_el = copy.deepcopy(org_el)\n",
    "        copied_slide.shapes._spTree.insert_element_before(new_el, 'p:extLst')\n",
    "    \n",
    "    for value in org_slide.part.rels:\n",
    "        if \"notesSlide\" not in value.reltype:\n",
    "            copied_slide.part.rels.get_or_add(\n",
    "                value.reltype , value._target)\n",
    "            \n",
    "    return copied_slide\n"
   ]
  },
  {
   "cell_type": "code",
   "execution_count": 39,
   "metadata": {},
   "outputs": [],
   "source": [
    "for i in range(int(cnt/2)):\n",
    "    next_slide = copy_slide(prs, prs.slides[0])     # 첫번째 슬라이드 복사\n",
    "    for shape in next_slide.shapes:                 # 복사한 슬라이드의 모든 요소를 가져옴\n",
    "        if shape.shape_type == 17 and shape.text == \"이름\":   # 텍스트 상자이고, 텍스트가 \"이름\"인 경우\n",
    "            shape.text_frame.paragraphs[0].text = next(names) # 텍스트를 이름으로 변경\n",
    "            shape.text_frame.paragraphs[0].font.size = Pt(40)\n",
    "            shape.text_frame.paragraphs[0].font.bold = True\n",
    "            shape.text_frame.paragraphs[0].font.name = \"나눔고딕\"\n",
    "        if shape.shape_type == 17 and shape.text == \"수험번호\":\n",
    "            shape.text_frame.paragraphs[0].text = next(nos)\n",
    "            shape.text_frame.paragraphs[0].font.size = Pt(40)\n",
    "            shape.text_frame.paragraphs[0].font.bold = True\n",
    "            shape.text_frame.paragraphs[0].font.name = \"나눔고딕\"\n",
    "\n",
    "prs.save(\"수험표_결과.pptx\")"
   ]
  }
 ],
 "metadata": {
  "kernelspec": {
   "display_name": "Python 3",
   "language": "python",
   "name": "python3"
  },
  "language_info": {
   "codemirror_mode": {
    "name": "ipython",
    "version": 3
   },
   "file_extension": ".py",
   "mimetype": "text/x-python",
   "name": "python",
   "nbconvert_exporter": "python",
   "pygments_lexer": "ipython3",
   "version": "3.10.10"
  },
  "orig_nbformat": 4
 },
 "nbformat": 4,
 "nbformat_minor": 2
}
