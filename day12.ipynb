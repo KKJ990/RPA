{
 "cells": [
  {
   "attachments": {},
   "cell_type": "markdown",
   "metadata": {},
   "source": [
    "면접 수험표 만들기"
   ]
  },
  {
   "cell_type": "code",
   "execution_count": null,
   "metadata": {},
   "outputs": [],
   "source": [
    "from faker import Faker\n",
    "import pandas as pd\n",
    "\n",
    "fake = Faker(\"ko_KR\")\n",
    "\n",
    "name_list = [fake.name() for i in range(10)]\n",
    "no_list = [\"2023-\" + str(i+1).zfill(3) for i in range(10)]\n",
    "print(name_list)\n",
    "print(no_list)\n",
    "\n",
    "df= pd.DataFrame({\"이름\":name_list, \"수험번호\":no_list})\n",
    "print(df)\n",
    "\n",
    "\n",
    "df.to_excel('./excel/수험번호.xlsx')"
   ]
  },
  {
   "attachments": {},
   "cell_type": "markdown",
   "metadata": {},
   "source": [
    "엑셀 파일을 읽어서 정보 가져오기"
   ]
  },
  {
   "cell_type": "code",
   "execution_count": 30,
   "metadata": {},
   "outputs": [
    {
     "name": "stdout",
     "output_type": "stream",
     "text": [
      "박미숙 2023-001\n",
      "이재호 2023-002\n",
      "이준영 2023-003\n",
      "김상훈 2023-004\n",
      "허은서 2023-005\n",
      "강정훈 2023-006\n",
      "김옥자 2023-007\n",
      "이성진 2023-008\n",
      "송경수 2023-009\n",
      "김춘자 2023-010\n"
     ]
    }
   ],
   "source": [
    "df = pd.read_excel(\"./excel/수험번호.xlsx\")\n",
    "name_list = df['이름'].to_list()\n",
    "no_list =df['수험번호'].to_list()\n",
    "for i in range(len(name_list)):\n",
    "    print(name_list[i],no_list[i])"
   ]
  },
  {
   "cell_type": "code",
   "execution_count": 34,
   "metadata": {},
   "outputs": [
    {
     "name": "stdout",
     "output_type": "stream",
     "text": [
      "박미숙 2023-001\n",
      "이재호 2023-002\n",
      "이준영 2023-003\n",
      "김상훈 2023-004\n",
      "허은서 2023-005\n",
      "강정훈 2023-006\n",
      "김옥자 2023-007\n",
      "이성진 2023-008\n",
      "송경수 2023-009\n",
      "김춘자 2023-010\n"
     ]
    }
   ],
   "source": [
    "name = iter(name_list)\n",
    "no = iter(no_list)\n",
    "for i in range(10):\n",
    "    print(next(name),next(no))"
   ]
  },
  {
   "cell_type": "code",
   "execution_count": 36,
   "metadata": {},
   "outputs": [
    {
     "name": "stdout",
     "output_type": "stream",
     "text": [
      "수험표\n",
      "수험번호\n",
      "인하공업전문대학\n",
      "이름\n",
      "수험표\n",
      "수험번호\n",
      "인하공업전문대학\n",
      "이름\n"
     ]
    }
   ],
   "source": [
    "from pptx import Presentation\n",
    "prs = Presentation(\"./ppt/수험표_샘플.pptx\")\n",
    "\n",
    "for slide in prs.slides:\n",
    "    for shape in slide.shapes:\n",
    "        if shape.shape_type== 17:  #글자라면\n",
    "            print(shape.text)"
   ]
  }
 ],
 "metadata": {
  "kernelspec": {
   "display_name": "Python 3",
   "language": "python",
   "name": "python3"
  },
  "language_info": {
   "codemirror_mode": {
    "name": "ipython",
    "version": 3
   },
   "file_extension": ".py",
   "mimetype": "text/x-python",
   "name": "python",
   "nbconvert_exporter": "python",
   "pygments_lexer": "ipython3",
   "version": "3.10.10"
  },
  "orig_nbformat": 4
 },
 "nbformat": 4,
 "nbformat_minor": 2
}
