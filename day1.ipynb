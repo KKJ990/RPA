{
 "cells": [
  {
   "attachments": {},
   "cell_type": "markdown",
   "metadata": {},
   "source": [
    "마우스 다루기\n",
    "- pip install pyautogui"
   ]
  },
  {
   "cell_type": "code",
   "execution_count": 56,
   "metadata": {},
   "outputs": [],
   "source": [
    "import pyautogui"
   ]
  },
  {
   "cell_type": "code",
   "execution_count": 57,
   "metadata": {},
   "outputs": [
    {
     "data": {
      "text/plain": [
       "Size(width=1920, height=1080)"
      ]
     },
     "execution_count": 57,
     "metadata": {},
     "output_type": "execute_result"
    }
   ],
   "source": [
    "pyautogui.size()"
   ]
  },
  {
   "cell_type": "code",
   "execution_count": 98,
   "metadata": {},
   "outputs": [
    {
     "name": "stdout",
     "output_type": "stream",
     "text": [
      "1284 519\n"
     ]
    }
   ],
   "source": [
    "x, y=pyautogui.position()\n",
    "print(x,y)"
   ]
  },
  {
   "cell_type": "code",
   "execution_count": 59,
   "metadata": {},
   "outputs": [],
   "source": [
    "pyautogui.moveTo(46,540,duration=1)\n",
    "pyautogui.moveTo(1160,550,duration=1)"
   ]
  },
  {
   "cell_type": "code",
   "execution_count": 60,
   "metadata": {},
   "outputs": [],
   "source": [
    "pyautogui.FAILSAFE = False"
   ]
  },
  {
   "cell_type": "code",
   "execution_count": 61,
   "metadata": {},
   "outputs": [],
   "source": [
    "pyautogui.moveTo(-100,-100,duration=1)"
   ]
  },
  {
   "cell_type": "code",
   "execution_count": 97,
   "metadata": {},
   "outputs": [],
   "source": [
    "pyautogui.moveTo(46,540,duration=1)\n",
    "pyautogui.doubleClick()"
   ]
  },
  {
   "cell_type": "code",
   "execution_count": 63,
   "metadata": {},
   "outputs": [],
   "source": [
    "pyautogui.moveTo(46,540,duration=1)\n",
    "pyautogui.dragTo(1851,635,duration=1)\n",
    "pyautogui.dragTo(46,540,duration=1)\n",
    "pyautogui.doubleClick()\n",
    "\n"
   ]
  },
  {
   "cell_type": "code",
   "execution_count": 90,
   "metadata": {},
   "outputs": [
    {
     "ename": "KeyError",
     "evalue": "1",
     "output_type": "error",
     "traceback": [
      "\u001b[1;31m---------------------------------------------------------------------------\u001b[0m",
      "\u001b[1;31mKeyError\u001b[0m                                  Traceback (most recent call last)",
      "Cell \u001b[1;32mIn[90], line 3\u001b[0m\n\u001b[0;32m      1\u001b[0m \u001b[39m#딕셔너리\u001b[39;00m\n\u001b[0;32m      2\u001b[0m buttons \u001b[39m=\u001b[39m {\u001b[39m\"\u001b[39m\u001b[39m1\u001b[39m\u001b[39m\"\u001b[39m:(\u001b[39m49\u001b[39m,\u001b[39m561\u001b[39m), \u001b[39m\"\u001b[39m\u001b[39m2\u001b[39m\u001b[39m\"\u001b[39m:(\u001b[39m155\u001b[39m,\u001b[39m561\u001b[39m),\u001b[39m\"\u001b[39m\u001b[39m3\u001b[39m\u001b[39m\"\u001b[39m:(\u001b[39m270\u001b[39m,\u001b[39m561\u001b[39m),\u001b[39m\"\u001b[39m\u001b[39mC\u001b[39m\u001b[39m\"\u001b[39m:(\u001b[39m249\u001b[39m,\u001b[39m292\u001b[39m),\u001b[39m\"\u001b[39m\u001b[39m=\u001b[39m\u001b[39m\"\u001b[39m:(\u001b[39m348\u001b[39m,\u001b[39m640\u001b[39m),\u001b[39m\"\u001b[39m\u001b[39m+\u001b[39m\u001b[39m\"\u001b[39m:(\u001b[39m346\u001b[39m,\u001b[39m564\u001b[39m)}\n\u001b[1;32m----> 3\u001b[0m \u001b[39mprint\u001b[39m(buttons[\u001b[39m1\u001b[39;49m])\n",
      "\u001b[1;31mKeyError\u001b[0m: 1"
     ]
    }
   ],
   "source": [
    "#딕셔너리\n",
    "buttons = {\"1\":(49,561), \"2\":(155,561),\"3\":(270,561),\"C\":(249,292),\"=\":(348,640),\"+\":(346,564)}\n",
    "print(buttons[1])\n"
   ]
  },
  {
   "cell_type": "code",
   "execution_count": 76,
   "metadata": {},
   "outputs": [],
   "source": [
    "x,y =buttons[1]\n",
    "pyautogui.click(x,y)   \n",
    "\n",
    "x,y =buttons[2]\n",
    "pyautogui.click(x,y)   \n",
    "\n",
    "x,y =buttons[3]\n",
    "pyautogui.click(x,y)\n"
   ]
  },
  {
   "cell_type": "code",
   "execution_count": 101,
   "metadata": {},
   "outputs": [],
   "source": [
    "pyautogui.click(249,292)  #c\n",
    "for i in \"1+2=\":\n",
    "    \n",
    "    x,y =buttons[i]\n",
    "    pyautogui.click(x,y)\n",
    "pyautogui.click(1284,519)\n"
   ]
  }
 ],
 "metadata": {
  "kernelspec": {
   "display_name": "Python 3",
   "language": "python",
   "name": "python3"
  },
  "language_info": {
   "codemirror_mode": {
    "name": "ipython",
    "version": 3
   },
   "file_extension": ".py",
   "mimetype": "text/x-python",
   "name": "python",
   "nbconvert_exporter": "python",
   "pygments_lexer": "ipython3",
   "version": "3.10.10"
  },
  "orig_nbformat": 4,
  "vscode": {
   "interpreter": {
    "hash": "26de051ba29f2982a8de78e945f0abaf191376122a1563185a90213a26c5da77"
   }
  }
 },
 "nbformat": 4,
 "nbformat_minor": 2
}
