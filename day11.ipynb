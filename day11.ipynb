{
 "cells": [
  {
   "attachments": {},
   "cell_type": "markdown",
   "metadata": {},
   "source": [
    "### 여러개의 엑셀 합치기 ###"
   ]
  },
  {
   "cell_type": "code",
   "execution_count": 24,
   "metadata": {},
   "outputs": [],
   "source": [
    "import glob\n",
    "from openpyxl import load_workbook,Workbook"
   ]
  },
  {
   "attachments": {},
   "cell_type": "markdown",
   "metadata": {},
   "source": [
    "경로 앞에 r을 지정 :python이 원시 문자열로 해석"
   ]
  },
  {
   "cell_type": "code",
   "execution_count": 8,
   "metadata": {},
   "outputs": [
    {
     "name": "stdout",
     "output_type": "stream",
     "text": [
      "['./excel\\\\판매보고_부산점.xlsx', './excel\\\\판매보고_시흥점.xlsx', './excel\\\\판매보고_청주점.xlsx']\n"
     ]
    }
   ],
   "source": [
    "reports =glob.glob(\"./excel/판매보고_*.xlsx\")\n",
    "print(reports)"
   ]
  },
  {
   "cell_type": "code",
   "execution_count": 19,
   "metadata": {},
   "outputs": [
    {
     "name": "stdout",
     "output_type": "stream",
     "text": [
      "['부산점', '시흥점', '청주점']\n",
      "[datetime.datetime(2022, 8, 9, 0, 0), datetime.datetime(2022, 8, 9, 0, 0), datetime.datetime(2022, 8, 9, 0, 0)]\n",
      "[1500000, 500000, 850000]\n"
     ]
    }
   ],
   "source": [
    "shop_list = []\n",
    "date_list = []\n",
    "money_list = []\n",
    "\n",
    "\n",
    "\n",
    "for report in reports:\n",
    "    wb = load_workbook(report)\n",
    "    ws = wb.active\n",
    "    shop_list.append(ws['B1'].value)\n",
    "    date_list.append(ws['B2'].value)\n",
    "    money_list.append(ws['B3'].value)\n",
    "\n",
    "print(shop_list)\n",
    "print(date_list)\n",
    "print(money_list)\n"
   ]
  },
  {
   "cell_type": "code",
   "execution_count": 25,
   "metadata": {},
   "outputs": [],
   "source": [
    "try:\n",
    "    wb = load_workbook(\"./excel/결과.xlsx\")\n",
    "    ws = wb.active\n",
    "    pass\n",
    "except:\n",
    "    wb =Workbook()\n",
    "    ws =wb.active\n",
    "\n",
    "for i in range(len(shop_list)):\n",
    "\n",
    "    ws.cell(row=i + 1 , column=1).value = shop_list[i]\n",
    "    ws.cell(row=i + 1 , column=2).value = date_list[i]\n",
    "    ws.cell(row=i + 1 , column=3).value = money_list[i]\n",
    "\n",
    "wb.save(\"./excel/결과.xlsx\")\n"
   ]
  },
  {
   "cell_type": "code",
   "execution_count": 28,
   "metadata": {},
   "outputs": [],
   "source": [
    "import glob\n",
    "from openpyxl import load_workbook,Workbook"
   ]
  },
  {
   "cell_type": "code",
   "execution_count": 29,
   "metadata": {},
   "outputs": [
    {
     "name": "stdout",
     "output_type": "stream",
     "text": [
      "['./excel\\\\발주서_시흥.xlsx', './excel\\\\발주서_청주.xlsx', './excel\\\\발주서_해운대.xlsx']\n"
     ]
    }
   ],
   "source": [
    "orders = glob.glob(\"./excel/발주서_*.xlsx\")\n",
    "print(orders)"
   ]
  },
  {
   "cell_type": "code",
   "execution_count": 42,
   "metadata": {},
   "outputs": [
    {
     "name": "stdout",
     "output_type": "stream",
     "text": [
      "['시흥', '청주', '해운대']\n",
      "['연필', '자', 'A4용지', '볼펜', '연필', '연필', '볼펜', '필통']\n",
      "[100, 150, 100, 50, 50, 50, 100, 10]\n"
     ]
    }
   ],
   "source": [
    "order_list=[]\n",
    "product_list=[]\n",
    "amount_list=[]\n",
    "for order in orders:\n",
    "    wb = load_workbook(order)\n",
    "    ws = wb.active\n",
    "    order_list.append(ws['B1'].value)\n",
    "\n",
    "    for data in ws['A4':'B12']:\n",
    "        for cell in data:\n",
    "            if cell.column ==1:\n",
    "                if cell.value !=None:\n",
    "                    product_list.append(cell.value)\n",
    "\n",
    "            elif  cell.column==2:\n",
    "                if cell.value !=None:\n",
    "                    amount_list.append(cell.value)\n",
    "\n",
    "print(order_list)\n",
    "print(product_list)\n",
    "print(amount_list)\n"
   ]
  },
  {
   "cell_type": "code",
   "execution_count": 48,
   "metadata": {},
   "outputs": [
    {
     "name": "stdout",
     "output_type": "stream",
     "text": [
      "       수량\n",
      "물품       \n",
      "A4용지  100\n",
      "볼펜    150\n",
      "연필    200\n",
      "자     150\n",
      "필통     10\n"
     ]
    }
   ],
   "source": [
    "import pandas as pd\n",
    "df = pd.DataFrame({'물품':product_list,'수량':amount_list})\n",
    "df = df.groupby('물품').sum()\n",
    "print(df)"
   ]
  },
  {
   "cell_type": "code",
   "execution_count": null,
   "metadata": {},
   "outputs": [],
   "source": [
    "df.to_excel(\"./excel/발주서_합계.xlsx\")"
   ]
  }
 ],
 "metadata": {
  "kernelspec": {
   "display_name": "Python 3",
   "language": "python",
   "name": "python3"
  },
  "language_info": {
   "codemirror_mode": {
    "name": "ipython",
    "version": 3
   },
   "file_extension": ".py",
   "mimetype": "text/x-python",
   "name": "python",
   "nbconvert_exporter": "python",
   "pygments_lexer": "ipython3",
   "version": "3.10.10"
  },
  "orig_nbformat": 4
 },
 "nbformat": 4,
 "nbformat_minor": 2
}
