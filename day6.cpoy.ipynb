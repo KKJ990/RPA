{
 "cells": [
  {
   "attachments": {},
   "cell_type": "markdown",
   "metadata": {},
   "source": [
    "### 네이버 쇼핑 크롤링"
   ]
  },
  {
   "cell_type": "code",
   "execution_count": 1,
   "metadata": {},
   "outputs": [],
   "source": [
    "from selenium import webdriver\n",
    "from selenium.webdriver.chrome.service import Service\n",
    "from selenium.webdriver.chrome.options import Options\n",
    "from selenium.webdriver.common.keys import Keys\n",
    "from selenium.webdriver.common.by import By\n",
    "from webdriver_manager.chrome import ChromeDriverManager\n",
    "import time\n",
    "import csv"
   ]
  },
  {
   "cell_type": "code",
   "execution_count": 8,
   "metadata": {},
   "outputs": [
    {
     "name": "stdout",
     "output_type": "stream",
     "text": [
      "Daum\n"
     ]
    },
    {
     "ename": "ElementNotInteractableException",
     "evalue": "Message: element not interactable\n  (Session info: chrome=112.0.5615.87)\nStacktrace:\nBacktrace:\n\tGetHandleVerifier [0x0060DCE3+50899]\n\t(No symbol) [0x0059E111]\n\t(No symbol) [0x004A5450]\n\t(No symbol) [0x004CC706]\n\t(No symbol) [0x004CBFD0]\n\t(No symbol) [0x004EB8FC]\n\t(No symbol) [0x004C8EC6]\n\t(No symbol) [0x004EBC54]\n\t(No symbol) [0x004FE01C]\n\t(No symbol) [0x004EB6F6]\n\t(No symbol) [0x004C7708]\n\t(No symbol) [0x004C886D]\n\tGetHandleVerifier [0x00873EAE+2566302]\n\tGetHandleVerifier [0x008A92B1+2784417]\n\tGetHandleVerifier [0x008A327C+2759788]\n\tGetHandleVerifier [0x006A5740+672048]\n\t(No symbol) [0x005A8872]\n\t(No symbol) [0x005A41C8]\n\t(No symbol) [0x005A42AB]\n\t(No symbol) [0x005971B7]\n\tBaseThreadInitThunk [0x770B6359+25]\n\tRtlGetAppContainerNamedObjectPath [0x77898964+228]\n\tRtlGetAppContainerNamedObjectPath [0x77898934+180]\n",
     "output_type": "error",
     "traceback": [
      "\u001b[1;31m---------------------------------------------------------------------------\u001b[0m",
      "\u001b[1;31mElementNotInteractableException\u001b[0m           Traceback (most recent call last)",
      "Cell \u001b[1;32mIn[8], line 19\u001b[0m\n\u001b[0;32m     17\u001b[0m search \u001b[39m=\u001b[39m driver\u001b[39m.\u001b[39mfind_element(By\u001b[39m.\u001b[39mCSS_SELECTOR,\u001b[39m\"\u001b[39m\u001b[39mdiv.box_search\u001b[39m\u001b[39m\"\u001b[39m)\n\u001b[0;32m     18\u001b[0m search\u001b[39m.\u001b[39mclick()\n\u001b[1;32m---> 19\u001b[0m search\u001b[39m.\u001b[39;49msend_keys(\u001b[39m\"\u001b[39;49m\u001b[39m아이폰14\u001b[39;49m\u001b[39m\"\u001b[39;49m)\n\u001b[0;32m     20\u001b[0m search\u001b[39m.\u001b[39msend_keys(Keys\u001b[39m.\u001b[39mENTER)\n\u001b[0;32m     24\u001b[0m \u001b[39m# ### 스크롤 전 높이\u001b[39;00m\n\u001b[0;32m     25\u001b[0m \u001b[39m# before_height = driver.execute_script(\"return window.scrollY\")\u001b[39;00m\n\u001b[0;32m     26\u001b[0m \n\u001b[1;32m   (...)\u001b[0m\n\u001b[0;32m     55\u001b[0m \u001b[39m#     link = item.find_element(By.CSS_SELECTOR,'div.basicList_title__VfX3c > a').get_attribute('href')\u001b[39;00m\n\u001b[0;32m     56\u001b[0m \u001b[39m#     print(name,\"/\",price,\"/\",link)\u001b[39;00m\n",
      "File \u001b[1;32m~\\AppData\\Roaming\\Python\\Python310\\site-packages\\selenium\\webdriver\\remote\\webelement.py:231\u001b[0m, in \u001b[0;36mWebElement.send_keys\u001b[1;34m(self, *value)\u001b[0m\n\u001b[0;32m    228\u001b[0m             remote_files\u001b[39m.\u001b[39mappend(\u001b[39mself\u001b[39m\u001b[39m.\u001b[39m_upload(file))\n\u001b[0;32m    229\u001b[0m         value \u001b[39m=\u001b[39m \u001b[39m\"\u001b[39m\u001b[39m\\n\u001b[39;00m\u001b[39m\"\u001b[39m\u001b[39m.\u001b[39mjoin(remote_files)\n\u001b[1;32m--> 231\u001b[0m \u001b[39mself\u001b[39;49m\u001b[39m.\u001b[39;49m_execute(\n\u001b[0;32m    232\u001b[0m     Command\u001b[39m.\u001b[39;49mSEND_KEYS_TO_ELEMENT, {\u001b[39m\"\u001b[39;49m\u001b[39mtext\u001b[39;49m\u001b[39m\"\u001b[39;49m: \u001b[39m\"\u001b[39;49m\u001b[39m\"\u001b[39;49m\u001b[39m.\u001b[39;49mjoin(keys_to_typing(value)), \u001b[39m\"\u001b[39;49m\u001b[39mvalue\u001b[39;49m\u001b[39m\"\u001b[39;49m: keys_to_typing(value)}\n\u001b[0;32m    233\u001b[0m )\n",
      "File \u001b[1;32m~\\AppData\\Roaming\\Python\\Python310\\site-packages\\selenium\\webdriver\\remote\\webelement.py:404\u001b[0m, in \u001b[0;36mWebElement._execute\u001b[1;34m(self, command, params)\u001b[0m\n\u001b[0;32m    402\u001b[0m     params \u001b[39m=\u001b[39m {}\n\u001b[0;32m    403\u001b[0m params[\u001b[39m\"\u001b[39m\u001b[39mid\u001b[39m\u001b[39m\"\u001b[39m] \u001b[39m=\u001b[39m \u001b[39mself\u001b[39m\u001b[39m.\u001b[39m_id\n\u001b[1;32m--> 404\u001b[0m \u001b[39mreturn\u001b[39;00m \u001b[39mself\u001b[39;49m\u001b[39m.\u001b[39;49m_parent\u001b[39m.\u001b[39;49mexecute(command, params)\n",
      "File \u001b[1;32m~\\AppData\\Roaming\\Python\\Python310\\site-packages\\selenium\\webdriver\\remote\\webdriver.py:440\u001b[0m, in \u001b[0;36mWebDriver.execute\u001b[1;34m(self, driver_command, params)\u001b[0m\n\u001b[0;32m    438\u001b[0m response \u001b[39m=\u001b[39m \u001b[39mself\u001b[39m\u001b[39m.\u001b[39mcommand_executor\u001b[39m.\u001b[39mexecute(driver_command, params)\n\u001b[0;32m    439\u001b[0m \u001b[39mif\u001b[39;00m response:\n\u001b[1;32m--> 440\u001b[0m     \u001b[39mself\u001b[39;49m\u001b[39m.\u001b[39;49merror_handler\u001b[39m.\u001b[39;49mcheck_response(response)\n\u001b[0;32m    441\u001b[0m     response[\u001b[39m\"\u001b[39m\u001b[39mvalue\u001b[39m\u001b[39m\"\u001b[39m] \u001b[39m=\u001b[39m \u001b[39mself\u001b[39m\u001b[39m.\u001b[39m_unwrap_value(response\u001b[39m.\u001b[39mget(\u001b[39m\"\u001b[39m\u001b[39mvalue\u001b[39m\u001b[39m\"\u001b[39m, \u001b[39mNone\u001b[39;00m))\n\u001b[0;32m    442\u001b[0m     \u001b[39mreturn\u001b[39;00m response\n",
      "File \u001b[1;32m~\\AppData\\Roaming\\Python\\Python310\\site-packages\\selenium\\webdriver\\remote\\errorhandler.py:245\u001b[0m, in \u001b[0;36mErrorHandler.check_response\u001b[1;34m(self, response)\u001b[0m\n\u001b[0;32m    243\u001b[0m         alert_text \u001b[39m=\u001b[39m value[\u001b[39m\"\u001b[39m\u001b[39malert\u001b[39m\u001b[39m\"\u001b[39m]\u001b[39m.\u001b[39mget(\u001b[39m\"\u001b[39m\u001b[39mtext\u001b[39m\u001b[39m\"\u001b[39m)\n\u001b[0;32m    244\u001b[0m     \u001b[39mraise\u001b[39;00m exception_class(message, screen, stacktrace, alert_text)  \u001b[39m# type: ignore[call-arg]  # mypy is not smart enough here\u001b[39;00m\n\u001b[1;32m--> 245\u001b[0m \u001b[39mraise\u001b[39;00m exception_class(message, screen, stacktrace)\n",
      "\u001b[1;31mElementNotInteractableException\u001b[0m: Message: element not interactable\n  (Session info: chrome=112.0.5615.87)\nStacktrace:\nBacktrace:\n\tGetHandleVerifier [0x0060DCE3+50899]\n\t(No symbol) [0x0059E111]\n\t(No symbol) [0x004A5450]\n\t(No symbol) [0x004CC706]\n\t(No symbol) [0x004CBFD0]\n\t(No symbol) [0x004EB8FC]\n\t(No symbol) [0x004C8EC6]\n\t(No symbol) [0x004EBC54]\n\t(No symbol) [0x004FE01C]\n\t(No symbol) [0x004EB6F6]\n\t(No symbol) [0x004C7708]\n\t(No symbol) [0x004C886D]\n\tGetHandleVerifier [0x00873EAE+2566302]\n\tGetHandleVerifier [0x008A92B1+2784417]\n\tGetHandleVerifier [0x008A327C+2759788]\n\tGetHandleVerifier [0x006A5740+672048]\n\t(No symbol) [0x005A8872]\n\t(No symbol) [0x005A41C8]\n\t(No symbol) [0x005A42AB]\n\t(No symbol) [0x005971B7]\n\tBaseThreadInitThunk [0x770B6359+25]\n\tRtlGetAppContainerNamedObjectPath [0x77898964+228]\n\tRtlGetAppContainerNamedObjectPath [0x77898934+180]\n"
     ]
    }
   ],
   "source": [
    "\n",
    "options = Options()\n",
    "options.add_experimental_option(\"detach\",True) \n",
    "service = Service(ChromeDriverManager().install())\n",
    "driver = webdriver.Chrome(service=service, options=options) \n",
    "driver.get(\"https://www.daum.net/\")\n",
    "print(driver.title)\n",
    "\n",
    "\n",
    "\n",
    "\n",
    "##쇼핑 들어가기(클릭)\n",
    "driver.find_element(By.CSS_SELECTOR,\"a.txt_pctop.link_shopping\").click()\n",
    "time.sleep(2)\n",
    "\n",
    "####검색창 클릭\n",
    "\n",
    "search = driver.find_element(By.CSS_SELECTOR,\"div.box_search\")\n",
    "search.click()\n",
    "search.send_keys(\"아이폰14\")\n",
    "search.send_keys(Keys.ENTER)\n",
    "\n",
    "\n",
    "\n",
    "# ### 스크롤 전 높이\n",
    "# before_height = driver.execute_script(\"return window.scrollY\")\n",
    "\n",
    "# #무한 스크롤 처리\n",
    "# while True:\n",
    "#     try:\n",
    "#         #스크롤 내리기\n",
    "#         more = driver.find_element(By.CSS_SELECTOR,\"body\").send_keys(Keys.END)\n",
    "#         time.sleep(1)\n",
    "#         after_height = driver.execute_script(\"return window.scrollY\")\n",
    "        \n",
    "#         if before_height == after_height:\n",
    "#             break\n",
    "#         before_height = after_height\n",
    "#     except:\n",
    "#         break\n",
    "\n",
    "\n",
    "# #상품 정보\n",
    "# items = driver.find_elements(By.CSS_SELECTOR,'div.basicList_item__0T9JD')\n",
    "\n",
    "# for item in items:\n",
    "#     #상품명\n",
    "#     name = item.find_element(By.CSS_SELECTOR,'div.basicList_title__VfX3c').text\n",
    "#     print(name)\n",
    "\n",
    "#     #가격\n",
    "#     price = item.find_element(By.CSS_SELECTOR,'span.price_num__S2p_v').text\n",
    "#     #print(price)\n",
    "\n",
    "#     # 링크\n",
    "#     link = item.find_element(By.CSS_SELECTOR,'div.basicList_title__VfX3c > a').get_attribute('href')\n",
    "#     print(name,\"/\",price,\"/\",link)\n",
    "\n"
   ]
  },
  {
   "cell_type": "code",
   "execution_count": null,
   "metadata": {},
   "outputs": [],
   "source": []
  },
  {
   "cell_type": "code",
   "execution_count": null,
   "metadata": {},
   "outputs": [],
   "source": []
  }
 ],
 "metadata": {
  "kernelspec": {
   "display_name": "Python 3",
   "language": "python",
   "name": "python3"
  },
  "language_info": {
   "codemirror_mode": {
    "name": "ipython",
    "version": 3
   },
   "file_extension": ".py",
   "mimetype": "text/x-python",
   "name": "python",
   "nbconvert_exporter": "python",
   "pygments_lexer": "ipython3",
   "version": "3.10.10"
  },
  "orig_nbformat": 4
 },
 "nbformat": 4,
 "nbformat_minor": 2
}
