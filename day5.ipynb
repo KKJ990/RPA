{
 "cells": [
  {
   "attachments": {},
   "cell_type": "markdown",
   "metadata": {},
   "source": [
    "### 웹 크롤링\n",
    "- 셀레리움(selenium)"
   ]
  },
  {
   "cell_type": "code",
   "execution_count": 23,
   "metadata": {},
   "outputs": [],
   "source": [
    "from selenium import webdriver\n",
    "from selenium.webdriver.chrome.service import Service\n",
    "from selenium.webdriver.common.keys import Keys\n",
    "from selenium.webdriver.common.by import By\n",
    "from webdriver_manager.chrome import ChromeDriverManager\n",
    "import time"
   ]
  },
  {
   "cell_type": "code",
   "execution_count": 7,
   "metadata": {},
   "outputs": [],
   "source": [
    "# ### 크롬 드라이버 경로\n",
    "# s = Service('data/chromedriver.exe')\n",
    "# options = webdriver.ChromeOptions()\n",
    "# options.add_argument('--start-maximized')\n",
    "# driver = webdriver.Chrome(service=s, options=options)\n",
    "\n",
    "# driver.get('https://www.naver.com/')\n",
    "# time.sleep(3)\n",
    "\n",
    "# driver.close()"
   ]
  },
  {
   "cell_type": "code",
   "execution_count": 36,
   "metadata": {},
   "outputs": [],
   "source": [
    "s = Service(ChromeDriverManager().install())\n",
    "\n"
   ]
  },
  {
   "attachments": {},
   "cell_type": "markdown",
   "metadata": {},
   "source": [
    "### 검색창을 찾아서 검색어 입력"
   ]
  },
  {
   "cell_type": "code",
   "execution_count": 47,
   "metadata": {},
   "outputs": [
    {
     "name": "stdout",
     "output_type": "stream",
     "text": [
      "NAVER\n",
      "메일\n",
      "https://mail.naver.com/\n",
      "====================\n",
      "카페\n",
      "https://section.cafe.naver.com/\n",
      "====================\n",
      "블로그\n",
      "https://section.blog.naver.com/\n",
      "====================\n",
      "지식iN\n",
      "https://kin.naver.com/\n",
      "====================\n",
      "쇼핑\n",
      "https://shopping.naver.com/\n",
      "====================\n",
      "쇼핑LIVE\n",
      "https://shoppinglive.naver.com/home\n",
      "====================\n",
      "Pay\n",
      "https://order.pay.naver.com/home\n",
      "====================\n",
      "TV\n",
      "https://tv.naver.com/\n",
      "====================\n",
      "사전\n",
      "https://dict.naver.com/\n",
      "====================\n",
      "뉴스\n",
      "https://news.naver.com/\n",
      "====================\n",
      "증권\n",
      "https://finance.naver.com/\n",
      "====================\n",
      "부동산\n",
      "https://land.naver.com/\n",
      "====================\n",
      "지도\n",
      "https://map.naver.com/\n",
      "====================\n",
      "VIBE\n",
      "https://vibe.naver.com/?from=naver_main&utm_source=naver_main&utm_medium=naver_main_pcweb&utm_campaign=naver_main_redirect\n",
      "====================\n",
      "도서\n",
      "https://search.shopping.naver.com/book/home\n",
      "====================\n",
      "웹툰\n",
      "https://comic.naver.com/\n",
      "====================\n"
     ]
    }
   ],
   "source": [
    "driver = webdriver.Chrome(service=s)\n",
    "driver.get(\"https://www.naver.com/\")\n",
    "print(driver.title)\n",
    "time.sleep(1)\n",
    "# driver.find_element(By.CSS_SELECTOR,\"input.input_text\").send_keys(\"인하공전\")\n",
    "# driver.find_element(By.CSS_SELECTOR,\"a.shoplive\").click()\n",
    "#driver.find_element(By.LINK_TEXT, \"지도\").click()\n",
    "\n",
    "#여러개의 정보 가져오기\n",
    "items = driver.find_elements(By.CSS_SELECTOR,\"a.nav\")\n",
    "for tag in items:\n",
    "    print(tag.text)\n",
    "    print(tag.get_attribute(\"href\"))\n",
    "    print(\"====================\")\n"
   ]
  },
  {
   "cell_type": "code",
   "execution_count": null,
   "metadata": {},
   "outputs": [],
   "source": [
    "import requests\n",
    "from bs4 import BeautifulSoup"
   ]
  }
 ],
 "metadata": {
  "kernelspec": {
   "display_name": "Python 3",
   "language": "python",
   "name": "python3"
  },
  "language_info": {
   "codemirror_mode": {
    "name": "ipython",
    "version": 3
   },
   "file_extension": ".py",
   "mimetype": "text/x-python",
   "name": "python",
   "nbconvert_exporter": "python",
   "pygments_lexer": "ipython3",
   "version": "3.10.10"
  },
  "orig_nbformat": 4
 },
 "nbformat": 4,
 "nbformat_minor": 2
}
