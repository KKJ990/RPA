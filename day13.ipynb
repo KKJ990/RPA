{
 "cells": [
  {
   "cell_type": "code",
   "execution_count": 1,
   "metadata": {},
   "outputs": [],
   "source": [
    "from googletrans import Translator"
   ]
  },
  {
   "cell_type": "code",
   "execution_count": null,
   "metadata": {},
   "outputs": [],
   "source": [
    "translator = Translator()\n",
    "str1 = '''[베리타스알파=정우식 기자] 인하공전은 23일 항공운항과 졸업생인 국민의힘 허은아 의원이 모교를 찾아 'Manners Maketh Dream!'이란 주제로 특강을 진행했다고 24일 밝혔다. 항공운항과 91학번 출신인 허 의원은 이날 특강에서 '실패에 쫄지마라' '포기하지 마라' '그리고 즐겨라'라는 세 가지 키워드로 후배들을 응원했다.\n",
    "\n",
    "\n",
    "허 의원은 학창 시절부터, 승무원 생활, 창업 그리고 국회의원이 되기까지의 과정을 통해 얻은 경험을 바탕으로 후배들과 교감하며 현실의 어려움과 도전에 대해 이야기했으며, 특히 인하공전을 다니고 있다는 자긍심을 갖고 미래에 대한 희망을 갖도록 조언했다. 허 의원의 강연 주제에 맞게 '매너(Manners)', 즉 예의범절을 바르게 갖는 태도가 학생들의 꿈을 이루도록 도와줄 것이라며 강연을 마쳤다.\n",
    "\n",
    "허 의원의 강연을 들은 학생들은 강연 후 이어진 질의 응답시간에 허 의원에게 대한항공 객실승무원의 경험부터 일상 적인 생활 습관까지 다양한 질문을 했으며, 허 의원도 후배들에게 친절히 답변하며 학생들과 소통했다. \n",
    "\n",
    "\n",
    "\n",
    "<저작권자©베리타스알파, 무단 전재 및 재배포 금지>'''\n",
    "result = translator.translate(str1, dest='en', src='auto')\n",
    "print(result.text)"
   ]
  },
  {
   "cell_type": "code",
   "execution_count": 21,
   "metadata": {},
   "outputs": [
    {
     "name": "stdout",
     "output_type": "stream",
     "text": [
      "[Veritas Alpha = Jung Woo -Sik 기자] Inha Kong은 24 일에 항공 비행 및 졸업생의 졸업생 인 Huh Eun -Ah가 알마 교인을 방문하여 '매너 Make Dream의 주제에 대한 특별 강의를 개최했다고 발표했습니다.! '항공 비행과 91 학급에서 온 Huh는 3 가지 키워드로 후배들을 응원했습니다.'포기하지 마십시오 ','포기하지 마십시오 '및'즐기십시오 '.\n",
      "\n",
      "\n",
      "Huh는 학교 시절부터 승무원 생활, 기업가 정신 및 국회의원들에 대한 경험을 바탕으로 주니어들과 의사 소통했으며, 특히 현실의 어려움과 도전, 특히 미래에 자부심에 대해 이야기했습니다.주민들은 당신에게 희망을 가질 것을 권고했다. 휴의 강의와 함께 그는 강의를 마치고 '매너'또는 공손함의 태도가 학생들이 꿈을 이루는 데 도움이 될 것이라고 말했다.\n",
      "\n",
      "학생들은 강의 강의를 듣고 강의 후 Q & A 시간 동안 Huh에게 물었고 한국 에어 캐빈 승무원의 경험에서 일상 생활 방식에 이르기까지 다양한 질문을했으며, Huh는 또한 주니어들에게 친절하게 응답하고재학생.\n",
      "\n",
      "\n",
      "\n",
      "<Copyright © Veritas Alpha, 무단 재생산 및 재배포 금지>\n"
     ]
    }
   ],
   "source": [
    "translator = Translator()\n",
    "str2 = '''[Veritas Alpha = Jung Woo -sik Reporter] Inha Kong announced on the 24th that the lawmaker Huh Eun -ah, a graduate of the aeronautical flight and graduates, visited the alma mater and held a special lecture on the theme of 'Manners Make Dream!'Huh, who is from the air flight and 91st class, cheered for his juniors with three keywords: 'Don't give up', 'Don't give up' and 'enjoy'.\n",
    "\n",
    "\n",
    "Huh has communicated with his juniors based on his experiences from his school days to crew life, entrepreneurship, and members of the National Assembly, and talked about the difficulties and challenges of reality, especially in the future with pride that he was in the lowering of the inhabitants.I advised you to have hope.In line with Huh's lecture, he finished his lecture, saying that 'manners', or attitudes of politeness, will help students achieve their dreams.\n",
    "\n",
    "The students listened to the lectures of the lectures and asked Huh during the Q & A time after the lecture, and asked various questions from the experience of Korean Air cabin crew to everyday lifestyles, and Huh also kindly responded to the juniors and communicated with the students.\n",
    "\n",
    "\n",
    "\n",
    "<Copyright © Veritas Alpha, Unauthorized reproduction and redistribution prohibition>'''\n",
    "result2 = translator.translate(str2, dest='ko', src='auto')\n",
    "print(result2.text)"
   ]
  },
  {
   "attachments": {},
   "cell_type": "markdown",
   "metadata": {},
   "source": [
    "### PPT 사용하기 - 글자 읽기"
   ]
  },
  {
   "cell_type": "code",
   "execution_count": 23,
   "metadata": {},
   "outputs": [],
   "source": [
    "from pptx import Presentation"
   ]
  },
  {
   "cell_type": "code",
   "execution_count": 37,
   "metadata": {},
   "outputs": [
    {
     "name": "stdout",
     "output_type": "stream",
     "text": [
      "한글 제목\n",
      "Korean title\n",
      "안녕하세요. 두번째 슬라이드 입니다.\n",
      "hello.The second slide.\n",
      "오늘은 날씨가 좋습니다.\n",
      "행복하세요.\n",
      "The weather is good today.\n",
      "be happy.\n",
      "세번째 슬라이드 입니다.\n",
      "The third slide.\n",
      "소 잃고 외양간 고친다.\n",
      "호랑이에게 물려가도 정신만 바짝 차리면 산다.\n",
      "\n",
      "Lost the cow and fix the barn.\n",
      "Even if you are inherited by the tiger, you will live if you just wake up.\n"
     ]
    }
   ],
   "source": [
    "prs = Presentation('./ppt/한글.pptx')\n",
    "\n",
    "\n",
    "for slide in prs.slides:\n",
    "    for shape in slide.shapes:\n",
    "        if shape.shape_type ==14 or shape.shape_type ==17:\n",
    "            print(shape.text)\n",
    "            result = translator.translate(shape.text, dest='en' , src='ko')\n",
    "            print(result.text)\n",
    "            shape.text_frame.text = result.text\n",
    "\n",
    "\n",
    "prs.save(\"영문.pptx\")\n",
    "\n"
   ]
  }
 ],
 "metadata": {
  "kernelspec": {
   "display_name": "Python 3",
   "language": "python",
   "name": "python3"
  },
  "language_info": {
   "codemirror_mode": {
    "name": "ipython",
    "version": 3
   },
   "file_extension": ".py",
   "mimetype": "text/x-python",
   "name": "python",
   "nbconvert_exporter": "python",
   "pygments_lexer": "ipython3",
   "version": "3.10.10"
  },
  "orig_nbformat": 4
 },
 "nbformat": 4,
 "nbformat_minor": 2
}
