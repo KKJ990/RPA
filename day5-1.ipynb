{
 "cells": [
  {
   "attachments": {},
   "cell_type": "markdown",
   "metadata": {},
   "source": [
    "### 웹 크롤링\n",
    "- 셀레리움(selenium)"
   ]
  },
  {
   "cell_type": "code",
   "execution_count": 1,
   "metadata": {},
   "outputs": [],
   "source": [
    "from selenium import webdriver\n",
    "from selenium.webdriver.chrome.service import Service\n",
    "from selenium.webdriver.common.keys import Keys\n",
    "from selenium.webdriver.common.by import By\n",
    "from webdriver_manager.chrome import ChromeDriverManager\n",
    "import time"
   ]
  },
  {
   "cell_type": "code",
   "execution_count": 7,
   "metadata": {},
   "outputs": [],
   "source": [
    "# ### 크롬 드라이버 경로\n",
    "# s = Service('data/chromedriver.exe')\n",
    "# options = webdriver.ChromeOptions()\n",
    "# options.add_argument('--start-maximized')\n",
    "# driver = webdriver.Chrome(service=s, options=options)\n",
    "\n",
    "# driver.get('https://www.naver.com/')\n",
    "# time.sleep(3)\n",
    "\n",
    "# driver.close()"
   ]
  },
  {
   "cell_type": "code",
   "execution_count": 2,
   "metadata": {},
   "outputs": [],
   "source": [
    "s = Service(ChromeDriverManager().install())\n",
    "\n"
   ]
  },
  {
   "attachments": {},
   "cell_type": "markdown",
   "metadata": {},
   "source": [
    "### 검색창을 찾아서 검색어 입력"
   ]
  },
  {
   "cell_type": "code",
   "execution_count": 16,
   "metadata": {},
   "outputs": [
    {
     "name": "stdout",
     "output_type": "stream",
     "text": [
      "NAVER\n"
     ]
    }
   ],
   "source": [
    "driver = webdriver.Chrome(service=s)\n",
    "driver.get(\"https://www.naver.com/\")\n",
    "print(driver.title)\n",
    "time.sleep(1)\n",
    "# driver.find_element(By.CSS_SELECTOR,\"input.input_text\").send_keys(\"인하공전\")  검색창입력\n",
    "#driver.find_element(By.LINK_TEXT, \"지도\").click()\n",
    "\n",
    "#여러개의 정보 가져오기\n",
    "# items = driver.find_elements(By.CSS_SELECTOR,\"a.nav\")\n",
    "# for tag in items:\n",
    "#     print(tag.text)\n",
    "#     print(tag.get_attribute(\"href\"))\n",
    "#     print(\"====================\")\n",
    "# # 검색창에 검색어 입력\n",
    "# elem = driver.find_element(By.NAME,'query')\n",
    "# elem.send_keys(\"파이썬\"+Keys.RETURN)\n",
    "# html = driver.page_source\n",
    "# print(html[:1000])\n",
    "driver.find_element(By.CSS_SELECTOR,\"a.shop\").click()\n",
    "time.sleep(2)\n",
    "driver.find_element(By.CLASS_NAME,\"_searchInput_search_text_3CUDs\").send_keys(\"아이폰14\",Keys.RETURN)\n"
   ]
  }
 ],
 "metadata": {
  "kernelspec": {
   "display_name": "Python 3",
   "language": "python",
   "name": "python3"
  },
  "language_info": {
   "codemirror_mode": {
    "name": "ipython",
    "version": 3
   },
   "file_extension": ".py",
   "mimetype": "text/x-python",
   "name": "python",
   "nbconvert_exporter": "python",
   "pygments_lexer": "ipython3",
   "version": "3.10.10"
  },
  "orig_nbformat": 4
 },
 "nbformat": 4,
 "nbformat_minor": 2
}
